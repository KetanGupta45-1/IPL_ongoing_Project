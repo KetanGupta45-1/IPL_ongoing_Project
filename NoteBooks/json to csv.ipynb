{
 "cells": [
  {
   "cell_type": "code",
   "execution_count": 11,
   "metadata": {},
   "outputs": [],
   "source": [
    "import os\n",
    "import pandas as pd\n",
    "import json\n",
    "from collections import defaultdict\n",
    "from datetime import datetime"
   ]
  },
  {
   "cell_type": "code",
   "execution_count": 12,
   "metadata": {},
   "outputs": [],
   "source": [
    "json_folder = \"F:/Machine and Deep Learning/IPL/cricsheet/ipl_json\"\n",
    "all_processed_data = []"
   ]
  },
  {
   "cell_type": "code",
   "execution_count": 13,
   "metadata": {},
   "outputs": [],
   "source": [
    "all_processed_data = []\n",
    "\n",
    "for json_file in os.listdir(json_folder):\n",
    "    if json_file.endswith(\".json\"):\n",
    "        file_path = os.path.join(json_folder, json_file)\n",
    "\n",
    "        with open(file_path, \"r\") as f:\n",
    "            data = json.load(f)\n",
    "\n",
    "        # Parse and filter by year\n",
    "        raw_date = data[\"info\"].get(\"dates\", [])\n",
    "        if not raw_date:\n",
    "            continue\n",
    "\n",
    "        match_date_str = raw_date[0]\n",
    "        try:\n",
    "            match_date = datetime.strptime(match_date_str, \"%Y-%m-%d\")\n",
    "        except:\n",
    "            continue\n",
    "\n",
    "        if match_date.year not in [2023, 2024]:\n",
    "            continue  # Skip if not in 2023 or 2024\n",
    "\n",
    "        venue = data[\"info\"].get(\"venue\", \"Unknown Venue\")\n",
    "        match_number = data[\"info\"].get(\"event\", {}).get(\"match_number\", \"Unknown Match\")\n",
    "\n",
    "        innings_list = data.get(\"innings\", [])\n",
    "        team1 = innings_list[0][\"team\"] if len(innings_list) > 0 else None\n",
    "        team2 = innings_list[1][\"team\"] if len(innings_list) > 1 else None\n",
    "\n",
    "        batsman_cum = defaultdict(int)\n",
    "        bowler_cum = defaultdict(int)\n",
    "        team_cum = defaultdict(int)\n",
    "\n",
    "        for inning_idx, inning in enumerate(innings_list):\n",
    "            batting_team = inning[\"team\"]\n",
    "            bowling_team = team2 if batting_team == team1 else team1\n",
    "            innings_no = inning_idx + 1\n",
    "            cumulative_runs = 0\n",
    "\n",
    "            for over in inning[\"overs\"]:\n",
    "                over_number = over[\"over\"]\n",
    "                for delivery_number, delivery in enumerate(over[\"deliveries\"]):\n",
    "                    striker = delivery[\"batter\"]\n",
    "                    non_striker = delivery[\"non_striker\"]\n",
    "                    bowler = delivery[\"bowler\"]\n",
    "                    runs_batter = delivery[\"runs\"][\"batter\"]\n",
    "                    total_runs = delivery[\"runs\"][\"total\"]\n",
    "                    extras_info = delivery.get(\"extras\", {})\n",
    "                    extras_sum = delivery[\"runs\"].get(\"extras\", 0)\n",
    "\n",
    "                    wides = extras_info.get(\"wides\", 0)\n",
    "                    noballs = extras_info.get(\"noballs\", 0)\n",
    "                    legbyes = extras_info.get(\"legbyes\", 0)\n",
    "\n",
    "                    run_conceded_by_bowler = runs_batter + wides + noballs\n",
    "                    batsman_cum[striker] += runs_batter\n",
    "                    bowler_cum[bowler] += run_conceded_by_bowler\n",
    "                    cumulative_runs += total_runs\n",
    "                    team_cum[batting_team] = cumulative_runs\n",
    "\n",
    "                    over_ball = f\"{over_number}.{delivery_number + 1}\"\n",
    "\n",
    "                    all_processed_data.append({\n",
    "                        \"Venue\": venue,\n",
    "                        \"Date\": match_date.strftime(\"%Y-%m-%d\"),\n",
    "                        \"Match No.\": match_number,\n",
    "                        \"Innings No.\": innings_no,\n",
    "                        \"Batting Team\": batting_team,\n",
    "                        \"Bowling Team\": bowling_team,\n",
    "                        \"Over\": over_ball,\n",
    "                        \"Striker\": striker,\n",
    "                        \"Non Striker\": non_striker,\n",
    "                        \"Bowler\": bowler,\n",
    "                        \"Runs by Batsman\": runs_batter,\n",
    "                        \"Extras\": extras_info,\n",
    "                        \"Total Runs (Ball)\": total_runs,\n",
    "                        \"Runs Conceded by Bowler\": run_conceded_by_bowler,\n",
    "                        \"Cumulative Runs by Batsman\": batsman_cum[striker],\n",
    "                        \"Cumulative Runs Conceded by Bowler\": bowler_cum[bowler],\n",
    "                        \"Cumulative Team Runs\": team_cum[batting_team]\n",
    "                    })"
   ]
  },
  {
   "cell_type": "code",
   "execution_count": 14,
   "metadata": {},
   "outputs": [],
   "source": [
    "df = pd.DataFrame(all_processed_data)"
   ]
  },
  {
   "cell_type": "code",
   "execution_count": 15,
   "metadata": {},
   "outputs": [],
   "source": [
    "df[\"Date\"] = pd.to_datetime(df[\"Date\"], errors=\"coerce\")\n",
    "df[\"Match No.\"] = pd.to_numeric(df[\"Match No.\"], errors=\"coerce\")\n",
    "df[\"Over\"] = df[\"Over\"].astype(float)\n",
    "df = df.sort_values(by=[\"Date\", \"Match No.\", \"Innings No.\",\"Over\"])\n",
    "df.reset_index(drop=True, inplace=True)"
   ]
  },
  {
   "cell_type": "code",
   "execution_count": 16,
   "metadata": {},
   "outputs": [
    {
     "name": "stdout",
     "output_type": "stream",
     "text": [
      "CSV file created successfully: match_data_23-24.csv\n"
     ]
    }
   ],
   "source": [
    "output_csv = \"match_data_23-24.csv\"\n",
    "df.to_csv(output_csv, index=False)\n",
    "\n",
    "print(f\"CSV file created successfully: {output_csv}\")"
   ]
  },
  {
   "cell_type": "code",
   "execution_count": 17,
   "metadata": {},
   "outputs": [],
   "source": [
    "all_processed_data = []\n",
    "\n",
    "for json_file in os.listdir(json_folder):\n",
    "    if json_file.endswith(\".json\"):\n",
    "        file_path = os.path.join(json_folder, json_file)\n",
    "\n",
    "        with open(file_path, \"r\") as f:\n",
    "            data = json.load(f)\n",
    "\n",
    "        venue = data[\"info\"].get(\"venue\", \"Unknown Venue\")\n",
    "        date = data[\"info\"][\"dates\"][0] if data[\"info\"].get(\"dates\") else \"Unknown Date\"\n",
    "        match_number = data[\"info\"].get(\"event\", {}).get(\"match_number\", \"Unknown Match\")\n",
    "\n",
    "        innings_list = data.get(\"innings\", [])\n",
    "        team1 = innings_list[0][\"team\"] if len(innings_list) > 0 else None\n",
    "        team2 = innings_list[1][\"team\"] if len(innings_list) > 1 else None\n",
    "\n",
    "        batsman_cum = defaultdict(int)\n",
    "        bowler_cum = defaultdict(int)\n",
    "        team_cum = defaultdict(int)\n",
    "\n",
    "        for inning_idx, inning in enumerate(innings_list):\n",
    "            batting_team = inning[\"team\"]\n",
    "            bowling_team = team2 if batting_team == team1 else team1\n",
    "            innings_no = inning_idx + 1\n",
    "            cumulative_runs = 0\n",
    "\n",
    "            for over in inning[\"overs\"]:\n",
    "                over_number = over[\"over\"]\n",
    "                for delivery_number, delivery in enumerate(over[\"deliveries\"]):\n",
    "                    striker = delivery[\"batter\"]\n",
    "                    non_striker = delivery[\"non_striker\"]\n",
    "                    bowler = delivery[\"bowler\"]\n",
    "                    runs_batter = delivery[\"runs\"][\"batter\"]\n",
    "                    total_runs = delivery[\"runs\"][\"total\"]\n",
    "                    extras_info = delivery.get(\"extras\", {})\n",
    "                    extras_sum = delivery[\"runs\"].get(\"extras\", 0)\n",
    "\n",
    "                    wides = extras_info.get(\"wides\", 0)\n",
    "                    noballs = extras_info.get(\"noballs\", 0)\n",
    "                    legbyes = extras_info.get(\"legbyes\", 0)\n",
    "\n",
    "                    run_conceded_by_bowler = runs_batter + wides + noballs\n",
    "                    batsman_cum[striker] += runs_batter\n",
    "                    bowler_cum[bowler] += run_conceded_by_bowler\n",
    "                    cumulative_runs += total_runs\n",
    "                    team_cum[batting_team] = cumulative_runs\n",
    "\n",
    "                    over_ball = f\"{over_number}.{delivery_number + 1}\"\n",
    "\n",
    "                    all_processed_data.append({\n",
    "                        \"Venue\": venue,\n",
    "                        \"Date\": date,\n",
    "                        \"Match No.\": match_number,\n",
    "                        \"Innings No.\": innings_no,\n",
    "                        \"Batting Team\": batting_team,\n",
    "                        \"Bowling Team\": bowling_team,\n",
    "                        \"Over\": over_ball,\n",
    "                        \"Striker\": striker,\n",
    "                        \"Non Striker\": non_striker,\n",
    "                        \"Bowler\": bowler,\n",
    "                        \"Runs by Batsman\": runs_batter,\n",
    "                        \"Extras\": extras_info,\n",
    "                        \"Total Runs (Ball)\": total_runs,\n",
    "                        \"Runs Conceded by Bowler\": run_conceded_by_bowler,\n",
    "                        \"Cumulative Runs by Batsman\": batsman_cum[striker],\n",
    "                        \"Cumulative Runs Conceded by Bowler\": bowler_cum[bowler],\n",
    "                        \"Cumulative Team Runs\": team_cum[batting_team]\n",
    "                    })"
   ]
  },
  {
   "cell_type": "code",
   "execution_count": 18,
   "metadata": {},
   "outputs": [],
   "source": [
    "df = pd.DataFrame(all_processed_data)"
   ]
  },
  {
   "cell_type": "code",
   "execution_count": 19,
   "metadata": {},
   "outputs": [],
   "source": [
    "df[\"Date\"] = pd.to_datetime(df[\"Date\"], errors=\"coerce\")\n",
    "df[\"Match No.\"] = pd.to_numeric(df[\"Match No.\"], errors=\"coerce\")\n",
    "df[\"Over\"] = df[\"Over\"].astype(float)\n",
    "df = df.sort_values(by=[\"Date\", \"Match No.\", \"Innings No.\",\"Over\"])\n",
    "df.reset_index(drop=True, inplace=True)"
   ]
  },
  {
   "cell_type": "code",
   "execution_count": 20,
   "metadata": {},
   "outputs": [
    {
     "name": "stdout",
     "output_type": "stream",
     "text": [
      "CSV file created successfully: match_data_08-24.csv\n"
     ]
    }
   ],
   "source": [
    "output_csv = \"match_data_08-24.csv\"\n",
    "df.to_csv(output_csv, index=False)\n",
    "\n",
    "print(f\"CSV file created successfully: {output_csv}\")"
   ]
  }
 ],
 "metadata": {
  "kernelspec": {
   "display_name": "Python 3",
   "language": "python",
   "name": "python3"
  },
  "language_info": {
   "codemirror_mode": {
    "name": "ipython",
    "version": 3
   },
   "file_extension": ".py",
   "mimetype": "text/x-python",
   "name": "python",
   "nbconvert_exporter": "python",
   "pygments_lexer": "ipython3",
   "version": "3.12.2"
  }
 },
 "nbformat": 4,
 "nbformat_minor": 2
}
